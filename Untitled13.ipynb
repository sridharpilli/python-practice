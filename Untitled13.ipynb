{
  "nbformat": 4,
  "nbformat_minor": 0,
  "metadata": {
    "colab": {
      "provenance": [],
      "authorship_tag": "ABX9TyONIWNa+nSb+LgO9tVphETf",
      "include_colab_link": true
    },
    "kernelspec": {
      "name": "python3",
      "display_name": "Python 3"
    },
    "language_info": {
      "name": "python"
    }
  },
  "cells": [
    {
      "cell_type": "markdown",
      "metadata": {
        "id": "view-in-github",
        "colab_type": "text"
      },
      "source": [
        "<a href=\"https://colab.research.google.com/github/sridharpilli/python-practice/blob/main/Untitled13.ipynb\" target=\"_parent\"><img src=\"https://colab.research.google.com/assets/colab-badge.svg\" alt=\"Open In Colab\"/></a>"
      ]
    },
    {
      "cell_type": "code",
      "source": [
        "a=int(input(\"enter a number :\"))\n",
        "b=int(input(\"enter a number\"))\n",
        "print(a+b)\n",
        "print(a-b)\n",
        "print(a*b)\n",
        "print(a**4)"
      ],
      "metadata": {
        "colab": {
          "base_uri": "https://localhost:8080/"
        },
        "id": "vSBKerxvHHAG",
        "outputId": "ced0f9d8-fd26-4dea-dd82-21fa7110b868"
      },
      "execution_count": null,
      "outputs": [
        {
          "output_type": "stream",
          "name": "stdout",
          "text": [
            "enter a number :7\n",
            "enter a number4\n",
            "11\n",
            "3\n",
            "28\n",
            "2401\n"
          ]
        }
      ]
    },
    {
      "cell_type": "code",
      "source": [
        "print(\"helo world\")"
      ],
      "metadata": {
        "colab": {
          "base_uri": "https://localhost:8080/"
        },
        "id": "6CeVCMJPIqO0",
        "outputId": "fd9b087e-59fe-4d38-c8b9-2658367ac457"
      },
      "execution_count": null,
      "outputs": [
        {
          "output_type": "stream",
          "name": "stdout",
          "text": [
            "helo world\n"
          ]
        }
      ]
    },
    {
      "cell_type": "code",
      "source": [
        "#bodmas\n",
        "a=10+5*(2**3)-6/2\n",
        "print(a)"
      ],
      "metadata": {
        "colab": {
          "base_uri": "https://localhost:8080/"
        },
        "id": "wfNeoeDCLZcA",
        "outputId": "e406d21a-9f82-488e-83aa-b0d5a9c0bcf6"
      },
      "execution_count": null,
      "outputs": [
        {
          "output_type": "stream",
          "name": "stdout",
          "text": [
            "47.0\n"
          ]
        }
      ]
    },
    {
      "cell_type": "code",
      "source": [
        "#string concatenation\n",
        "a=\"sridhar\"+ \"pilli\"\n",
        "print(a)\n"
      ],
      "metadata": {
        "colab": {
          "base_uri": "https://localhost:8080/"
        },
        "id": "UqkvCFzmNTMN",
        "outputId": "eaeb886c-0f54-439c-c644-0c4ffcf85d54"
      },
      "execution_count": null,
      "outputs": [
        {
          "output_type": "stream",
          "name": "stdout",
          "text": [
            "sridharpilli\n"
          ]
        }
      ]
    },
    {
      "cell_type": "code",
      "source": [
        "#string repetition\n",
        "a=\"sridhar\"\n",
        "print(a*10)"
      ],
      "metadata": {
        "colab": {
          "base_uri": "https://localhost:8080/"
        },
        "id": "_2i4-aRFNqNW",
        "outputId": "6385c198-7dd9-40f9-ac7f-1d41f99b1e19"
      },
      "execution_count": null,
      "outputs": [
        {
          "output_type": "stream",
          "name": "stdout",
          "text": [
            "sridharsridharsridharsridharsridharsridharsridharsridharsridharsridhar\n"
          ]
        }
      ]
    },
    {
      "cell_type": "code",
      "source": [
        "#length of string\n",
        "a=\"sridhar\"\n",
        "print(len(a))\n"
      ],
      "metadata": {
        "colab": {
          "base_uri": "https://localhost:8080/"
        },
        "id": "0PQ7kHXHOX75",
        "outputId": "bbfbc735-870f-4253-82e3-de99b387f393"
      },
      "execution_count": null,
      "outputs": [
        {
          "output_type": "stream",
          "name": "stdout",
          "text": [
            "7\n"
          ]
        }
      ]
    },
    {
      "cell_type": "code",
      "source": [
        "#type conversion\n",
        "a=3.33333\n",
        "print(type(str(a)))"
      ],
      "metadata": {
        "colab": {
          "base_uri": "https://localhost:8080/"
        },
        "id": "FkJ5yHoaPWQg",
        "outputId": "919657ac-3175-4a1d-b806-6e64824c4878"
      },
      "execution_count": null,
      "outputs": [
        {
          "output_type": "stream",
          "name": "stdout",
          "text": [
            "<class 'str'>\n"
          ]
        }
      ]
    },
    {
      "cell_type": "code",
      "source": [
        "#string indexing\n",
        "my_name=(\"sridhar\")\n",
        "print(my_name[0])\n",
        "print(my_name[1])\n",
        "print(my_name[2])\n",
        "print(my_name[3])\n",
        "print(my_name[4])\n",
        "print(my_name[5])\n",
        "print(my_name[6])"
      ],
      "metadata": {
        "colab": {
          "base_uri": "https://localhost:8080/"
        },
        "id": "dE2MTG1CQOhi",
        "outputId": "8ca0b601-f978-4377-d9c0-845b7ec960f8"
      },
      "execution_count": null,
      "outputs": [
        {
          "output_type": "stream",
          "name": "stdout",
          "text": [
            "s\n",
            "r\n",
            "i\n",
            "d\n",
            "h\n",
            "a\n",
            "r\n"
          ]
        }
      ]
    },
    {
      "cell_type": "code",
      "source": [
        "#relational operater\n",
        "a=2\n",
        "b=4\n",
        "print(a==b)\n",
        "print(a<=b)"
      ],
      "metadata": {
        "colab": {
          "base_uri": "https://localhost:8080/"
        },
        "id": "o_9RM-WRVsRD",
        "outputId": "cb6c64c1-c573-435b-d9b0-75693c7079db"
      },
      "execution_count": null,
      "outputs": [
        {
          "output_type": "stream",
          "name": "stdout",
          "text": [
            "False\n",
            "True\n"
          ]
        }
      ]
    },
    {
      "cell_type": "code",
      "source": [],
      "metadata": {
        "id": "V7RnukfWVq4y"
      },
      "execution_count": null,
      "outputs": []
    }
  ]
}